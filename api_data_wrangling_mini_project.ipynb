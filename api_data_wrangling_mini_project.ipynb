{
 "cells": [
  {
   "cell_type": "markdown",
   "metadata": {},
   "source": [
    "This exercise will require you to pull some data from https://data.nasdaq.com/ (formerly Quandl API)."
   ]
  },
  {
   "cell_type": "markdown",
   "metadata": {},
   "source": [
    "As a first step, you will need to register a free account on the https://data.nasdaq.com/ website."
   ]
  },
  {
   "cell_type": "markdown",
   "metadata": {},
   "source": [
    "After you register, you will be provided with a unique API key, that you should store:\n",
    "\n",
    "*Note*: Use a `.env` file and put your key in there and `python-dotenv` to access it in this notebook. \n",
    "\n",
    "The code below uses a key that was used when generating this project but has since been deleted. Never submit your keys to source control. There is a `.env-example` file in this repository to illusrtate what you need. Copy that to a file called `.env` and use your own api key in that `.env` file. Make sure you also have a `.gitignore` file with a line for `.env` added to it. \n",
    "\n",
    "The standard Python gitignore is [here](https://github.com/github/gitignore/blob/master/Python.gitignore) you can just copy that. "
   ]
  },
  {
   "cell_type": "code",
   "execution_count": 1,
   "metadata": {},
   "outputs": [],
   "source": [
    "# get api key from your .env file\n",
    "import os\n",
    "from dotenv import load_dotenv\n",
    "\n",
    "load_dotenv()\n",
    "API_KEY = os.getenv('NASDAQ_API_KEY')\n",
    "\n",
    "# print(API_KEY)"
   ]
  },
  {
   "cell_type": "markdown",
   "metadata": {},
   "source": [
    "Nasdaq Data has a large number of data sources, but, unfortunately, most of them require a Premium subscription. Still, there are also a good number of free datasets."
   ]
  },
  {
   "cell_type": "markdown",
   "metadata": {},
   "source": [
    "For this mini project, we will focus on equities data from the Frankfurt Stock Exhange (FSE), which is available for free. We'll try and analyze the stock prices of a company called Carl Zeiss Meditec, which manufactures tools for eye examinations, as well as medical lasers for laser eye surgery: https://www.zeiss.com/meditec/int/home.html. The company is listed under the stock ticker AFX_X."
   ]
  },
  {
   "cell_type": "markdown",
   "metadata": {},
   "source": [
    "You can find the detailed Nasdaq Data API instructions here: https://docs.data.nasdaq.com/docs/in-depth-usage"
   ]
  },
  {
   "cell_type": "markdown",
   "metadata": {},
   "source": [
    "While there is a dedicated Python package for connecting to the Nasdaq API, we would prefer that you use the *requests* package, which can be easily downloaded using *pip* or *conda*. You can find the documentation for the package here: http://docs.python-requests.org/en/master/ "
   ]
  },
  {
   "cell_type": "markdown",
   "metadata": {},
   "source": [
    "Finally, apart from the *requests* package, you are encouraged to not use any third party Python packages, such as *pandas*, and instead focus on what's available in the Python Standard Library (the *collections* module might come in handy: https://pymotw.com/3/collections/).\n",
    "Also, since you won't have access to DataFrames, you are encouraged to us Python's native data structures - preferably dictionaries, though some questions can also be answered using lists.\n",
    "You can read more on these data structures here: https://docs.python.org/3/tutorial/datastructures.html"
   ]
  },
  {
   "cell_type": "markdown",
   "metadata": {},
   "source": [
    "Keep in mind that the JSON responses you will be getting from the API map almost one-to-one to Python's dictionaries. Unfortunately, they can be very nested, so make sure you read up on indexing dictionaries in the documentation provided above."
   ]
  },
  {
   "cell_type": "code",
   "execution_count": 2,
   "metadata": {},
   "outputs": [],
   "source": [
    "# First, import the relevant modules\n",
    "import requests"
   ]
  },
  {
   "cell_type": "markdown",
   "metadata": {},
   "source": [
    "Note: API's can change a bit with each version, for this exercise it is reccomended to use the nasdaq api at `https://data.nasdaq.com/api/v3/`. This is the same api as what used to be quandl so `https://www.quandl.com/api/v3/` should work too.\n",
    "\n",
    "Hint: We are looking for the `AFX_X` data on the `datasets/FSE/` dataset."
   ]
  },
  {
   "cell_type": "code",
   "execution_count": 3,
   "metadata": {},
   "outputs": [],
   "source": [
    "# Now, call the Nasdaq API and pull out a small sample of the data (only one day) to get a glimpse\n",
    "# into the JSON structure that will be returned\n",
    "url = \"https://data.nasdaq.com/api/v3/datasets/FSE/AFX_X\"\n",
    "test_params = {\n",
    "    \"start_date\": \"2017-10-02\",\n",
    "    \"end_date\": \"2017-10-02\",\n",
    "    \"api_key\": API_KEY\n",
    "}\n",
    "test_data = requests.get(url, params=test_params)"
   ]
  },
  {
   "cell_type": "code",
   "execution_count": 4,
   "metadata": {},
   "outputs": [
    {
     "data": {
      "text/plain": [
       "{'dataset': {'id': 10095370,\n",
       "  'dataset_code': 'AFX_X',\n",
       "  'database_code': 'FSE',\n",
       "  'name': 'Carl Zeiss Meditec (AFX_X)',\n",
       "  'description': 'Stock Prices for Carl Zeiss Meditec (2020-11-02) from the Frankfurt Stock Exchange.<br><br>Trading System: Xetra<br><br>ISIN: DE0005313704',\n",
       "  'refreshed_at': '2020-12-01T14:48:09.907Z',\n",
       "  'newest_available_date': '2020-12-01',\n",
       "  'oldest_available_date': '2000-06-07',\n",
       "  'column_names': ['Date',\n",
       "   'Open',\n",
       "   'High',\n",
       "   'Low',\n",
       "   'Close',\n",
       "   'Change',\n",
       "   'Traded Volume',\n",
       "   'Turnover',\n",
       "   'Last Price of the Day',\n",
       "   'Daily Traded Units',\n",
       "   'Daily Turnover'],\n",
       "  'frequency': 'daily',\n",
       "  'type': 'Time Series',\n",
       "  'premium': False,\n",
       "  'limit': None,\n",
       "  'transform': None,\n",
       "  'column_index': None,\n",
       "  'start_date': '2017-10-02',\n",
       "  'end_date': '2017-10-02',\n",
       "  'data': [['2017-10-02',\n",
       "    44.51,\n",
       "    44.98,\n",
       "    44.18,\n",
       "    44.98,\n",
       "    None,\n",
       "    95313.0,\n",
       "    4265024.0,\n",
       "    None,\n",
       "    None,\n",
       "    None]],\n",
       "  'collapse': None,\n",
       "  'order': None,\n",
       "  'database_id': 6129}}"
      ]
     },
     "execution_count": 4,
     "metadata": {},
     "output_type": "execute_result"
    }
   ],
   "source": [
    "# Inspect the JSON structure of the object you created, and take note of how nested it is,\n",
    "# as well as the overall structure\n",
    "test_data.json()"
   ]
  },
  {
   "cell_type": "markdown",
   "metadata": {},
   "source": [
    "These are your tasks for this mini project:\n",
    "\n",
    "1. Collect data from the Franfurt Stock Exchange, for the ticker AFX_X, for the whole year 2017 (keep in mind that the date format is YYYY-MM-DD).\n",
    "2. Convert the returned JSON object into a Python dictionary.\n",
    "3. Calculate what the highest and lowest opening prices were for the stock in this period.\n",
    "4. What was the largest change in any one day (based on High and Low price)?\n",
    "5. What was the largest change between any two days (based on Closing Price)?\n",
    "6. What was the average daily trading volume during this year?\n",
    "7. (Optional) What was the median trading volume during this year. (Note: you may need to implement your own function for calculating the median.)"
   ]
  },
  {
   "attachments": {},
   "cell_type": "markdown",
   "metadata": {},
   "source": [
    "### 1. Getting data for 2017"
   ]
  },
  {
   "cell_type": "code",
   "execution_count": 5,
   "metadata": {},
   "outputs": [],
   "source": [
    "# construct and make the GET request\n",
    "data_params = {\n",
    "    \"start_date\": \"2017-01-01\",\n",
    "    \"end_date\": \"2017-12-31\",\n",
    "    \"api_key\": API_KEY\n",
    "}\n",
    "\n",
    "raw_data = requests.get(url, params=data_params).json()['dataset']"
   ]
  },
  {
   "attachments": {},
   "cell_type": "markdown",
   "metadata": {},
   "source": [
    "### 2. Parsing the data into a dict\n",
    "\n",
    "Because of the odd restriction to not use pandas, we can parse the data into a `dict` of `dict`s such that the top-level keys are dates and the values are dicts where the keys are the column headings. Note that there is data only for days on which the exchange was open (255 in 2017)."
   ]
  },
  {
   "cell_type": "code",
   "execution_count": 6,
   "metadata": {},
   "outputs": [
    {
     "name": "stdout",
     "output_type": "stream",
     "text": [
      "Observations parsed: 255\n",
      "Columns names: ['Date', 'Open', 'High', 'Low', 'Close', 'Change', 'Traded Volume', 'Turnover', 'Last Price of the Day', 'Daily Traded Units', 'Daily Turnover']\n",
      "data for Oct 2: {'Open': 44.51, 'High': 44.98, 'Low': 44.18, 'Close': 44.98, 'Change': None, 'Traded Volume': 95313.0, 'Turnover': 4265024.0, 'Last Price of the Day': None, 'Daily Traded Units': None, 'Daily Turnover': None}\n"
     ]
    }
   ],
   "source": [
    "column_names = raw_data[\"column_names\"]\n",
    "values_table = raw_data['data']\n",
    "afx_x_data = {\n",
    "    row[0]: {\n",
    "        column_name: value\n",
    "        for column_name, value in zip(column_names[1:], row[1:])\n",
    "    }\n",
    "    for row in values_table\n",
    "}\n",
    "print(f\"Observations parsed: {len(afx_x_data)}\")\n",
    "print(f\"Columns names: {column_names}\")\n",
    "print(f\"data for Oct 2: {afx_x_data['2017-10-02']}\")"
   ]
  },
  {
   "attachments": {},
   "cell_type": "markdown",
   "metadata": {},
   "source": [
    "### 3. The highest and lowest opening prices"
   ]
  },
  {
   "cell_type": "code",
   "execution_count": 7,
   "metadata": {},
   "outputs": [
    {
     "name": "stdout",
     "output_type": "stream",
     "text": [
      "The highest opening price was on 2017-12-14, with a price of 53.11.\n",
      "The lowest opening price was on 2017-01-24, with a price of 34.00.\n"
     ]
    }
   ],
   "source": [
    "# There are a few dates with no opening price. I filter those out.\n",
    "\n",
    "max_open_date = max(\n",
    "    filter(lambda date: afx_x_data[date]['Open'] is not None, afx_x_data),\n",
    "    key=lambda day: afx_x_data[day][\"Open\"]\n",
    ")\n",
    "print(f\"The highest opening price was on {max_open_date}, with a price of {afx_x_data[max_open_date]['Open']:.2f}.\")\n",
    "min_open_date = min(\n",
    "    filter(lambda date: afx_x_data[date]['Open'] is not None, afx_x_data),\n",
    "    key=lambda day: afx_x_data[day][\"Open\"]\n",
    ")\n",
    "print(f\"The lowest opening price was on {min_open_date}, with a price of {afx_x_data[min_open_date]['Open']:.2f}.\")"
   ]
  },
  {
   "attachments": {},
   "cell_type": "markdown",
   "metadata": {},
   "source": [
    "### 4. Largest daily range"
   ]
  },
  {
   "cell_type": "code",
   "execution_count": 8,
   "metadata": {},
   "outputs": [
    {
     "name": "stdout",
     "output_type": "stream",
     "text": [
      "The highest range between high and low prices was 2.81 on 2017-05-11.\n"
     ]
    }
   ],
   "source": [
    "max_range_date = max(\n",
    "    filter(\n",
    "        lambda day: afx_x_data[day]['High'] is not None and afx_x_data[day]['Low'] is not None,\n",
    "        afx_x_data\n",
    "    ),\n",
    "    key=lambda day: afx_x_data[day]['High'] - afx_x_data[day]['Low']\n",
    ")\n",
    "max_range = afx_x_data[max_range_date]['High'] - afx_x_data[max_range_date]['Low']\n",
    "print(f\"The highest range between high and low prices was {max_range:.2f} on {max_range_date}.\")"
   ]
  },
  {
   "attachments": {},
   "cell_type": "markdown",
   "metadata": {},
   "source": [
    "### 5. Largest change between closing prices\n",
    "\n",
    "This one requires a little interpretation: the question does not specifically mention *consecutive* days, but let's assume that is what is meant. Thankfully there are no missing values for close, so that simplifies things somewhat. There are gaps for days with no trading, however. For simplicitly sake, let's look for the maximum change between consecutive *trading* days. Also, let's assume \"largest change\" is independent of direction."
   ]
  },
  {
   "cell_type": "code",
   "execution_count": 9,
   "metadata": {},
   "outputs": [
    {
     "name": "stdout",
     "output_type": "stream",
     "text": [
      "[]\n"
     ]
    }
   ],
   "source": [
    "# no missing values for close\n",
    "print([date for date in afx_x_data if afx_x_data[date]['Close'] is None])"
   ]
  },
  {
   "cell_type": "code",
   "execution_count": 10,
   "metadata": {},
   "outputs": [
    {
     "name": "stdout",
     "output_type": "stream",
     "text": [
      "The largest day-to-day price change was -2.56, from 2017-08-08 to 2017-08-09.\n"
     ]
    }
   ],
   "source": [
    "current_max_change = {\"dates\": None, \"price_change\": 0}\n",
    "dates_in_order = sorted(afx_x_data.keys())\n",
    "last_date = dates_in_order[0]\n",
    "for date in dates_in_order[1:]:\n",
    "    price_change =  afx_x_data[date]['Close'] - afx_x_data[last_date]['Close']\n",
    "    if abs(price_change) > abs(current_max_change['price_change']):\n",
    "        current_max_change = {\n",
    "            \"dates\": f\"{last_date} to {date}\",\n",
    "            \"price_change\": price_change\n",
    "        }\n",
    "    last_date = date\n",
    "\n",
    "print(f\"The largest day-to-day price change was {current_max_change['price_change']:.2f}, from {current_max_change['dates']}.\")"
   ]
  },
  {
   "attachments": {},
   "cell_type": "markdown",
   "metadata": {},
   "source": [
    "### 6. Average daily trading volume"
   ]
  },
  {
   "cell_type": "code",
   "execution_count": 11,
   "metadata": {},
   "outputs": [
    {
     "name": "stdout",
     "output_type": "stream",
     "text": [
      "[]\n"
     ]
    }
   ],
   "source": [
    "# Check for missing values\n",
    "print([date for date in afx_x_data if afx_x_data[date]['Traded Volume'] is None])"
   ]
  },
  {
   "cell_type": "code",
   "execution_count": 12,
   "metadata": {},
   "outputs": [
    {
     "name": "stdout",
     "output_type": "stream",
     "text": [
      "The average daily trading volume (rounded to the nearest unit) was 89124.\n"
     ]
    }
   ],
   "source": [
    "# Make a list of daily trading volumes\n",
    "daily_volumes = [obs['Traded Volume'] for obs in afx_x_data.values()]\n",
    "\n",
    "# Take the average\n",
    "avg_daily_volume = sum(daily_volumes) / len(daily_volumes)\n",
    "\n",
    "print(f\"The average daily trading volume (rounded to the nearest unit) was {avg_daily_volume:.0f}.\")"
   ]
  },
  {
   "attachments": {},
   "cell_type": "markdown",
   "metadata": {},
   "source": [
    "### 7. Median daily trading volume"
   ]
  },
  {
   "cell_type": "code",
   "execution_count": 13,
   "metadata": {},
   "outputs": [
    {
     "name": "stdout",
     "output_type": "stream",
     "text": [
      "The median daily trading volume was 76286.0.\n"
     ]
    }
   ],
   "source": [
    "def median(vals):\n",
    "    sorted_vals = sorted(vals)\n",
    "    n = len(sorted_vals)\n",
    "    if n % 2 == 0:\n",
    "        return (sorted_vals[n/2 - 1] + sorted_vals[n/2])/2\n",
    "    else:\n",
    "        return sorted_vals[n//2]\n",
    "    \n",
    "median_daily_volume = median(daily_volumes)\n",
    "\n",
    "print(f\"The median daily trading volume was {median_daily_volume}.\")"
   ]
  }
 ],
 "metadata": {
  "kernelspec": {
   "display_name": "springboard-data-science-EsuWUoHV",
   "language": "python",
   "name": "python3"
  },
  "language_info": {
   "codemirror_mode": {
    "name": "ipython",
    "version": 3
   },
   "file_extension": ".py",
   "mimetype": "text/x-python",
   "name": "python",
   "nbconvert_exporter": "python",
   "pygments_lexer": "ipython3",
   "version": "3.9.13"
  },
  "vscode": {
   "interpreter": {
    "hash": "029fda3b36bfb9d0001a5d454f18969e67e08494d973d4f627dcef55123b6a33"
   }
  }
 },
 "nbformat": 4,
 "nbformat_minor": 4
}
